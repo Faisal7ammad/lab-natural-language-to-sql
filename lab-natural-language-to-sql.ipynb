{
  "cells": [
    {
      "cell_type": "markdown",
      "metadata": {
        "toc": true,
        "id": "NgUEXTBCANee"
      },
      "source": [
        "<h1>Table of Contents<span class=\"tocSkip\"></span></h1>\n",
        "<div class=\"toc\"><ul class=\"toc-item\"><li><span><a href=\"#Natural-language-to-SQL\" data-toc-modified-id=\"Natural-language-to-SQL-1\"><span class=\"toc-item-num\">1&nbsp;&nbsp;</span>Natural language to SQL</a></span></li><li><span><a href=\"#Prompt-without-Shots.\" data-toc-modified-id=\"Prompt-without-Shots.-2\"><span class=\"toc-item-num\">2&nbsp;&nbsp;</span>Prompt without Shots.</a></span></li><li><span><a href=\"#Exercise\" data-toc-modified-id=\"Exercise-3\"><span class=\"toc-item-num\">3&nbsp;&nbsp;</span>Exercise</a></span></li></ul></div>"
      ]
    },
    {
      "cell_type": "markdown",
      "metadata": {
        "id": "1yFnrczEWDMm"
      },
      "source": [
        "# Natural language to SQL\n",
        "\n",
        "**Run in [Google Colab](https://colab.research.google.com/) For GPU.**\n",
        "\n",
        "This model have  Mistral as a base and it has been fine-tuned to excel in SQL code generation."
      ]
    },
    {
      "cell_type": "code",
      "execution_count": 19,
      "metadata": {
        "ExecuteTime": {
          "end_time": "2024-06-20T13:18:37.952305Z",
          "start_time": "2024-06-20T13:18:07.260369Z"
        },
        "id": "hu0ogMENANeh"
      },
      "outputs": [],
      "source": [
        "from google.colab import userdata\n",
        "API_KEY = userdata.get('HF')"
      ]
    },
    {
      "cell_type": "code",
      "execution_count": 19,
      "metadata": {
        "ExecuteTime": {
          "end_time": "2024-06-20T13:46:51.524618Z",
          "start_time": "2024-06-20T13:46:51.504538Z"
        },
        "id": "kwUhBRwaLVZI"
      },
      "outputs": [],
      "source": [
        "#https://colab.research.google.com/drive/1NlJGGCw1T9yloUk7OBBGYuwyfyctaGlW#scrollTo=oHSF1l3xNscJ"
      ]
    },
    {
      "cell_type": "code",
      "execution_count": 20,
      "metadata": {
        "ExecuteTime": {
          "end_time": "2024-06-20T13:56:21.532642Z",
          "start_time": "2024-06-20T13:46:54.018613Z"
        },
        "colab": {
          "base_uri": "https://localhost:8080/"
        },
        "id": "8VNBGXh9V952",
        "outputId": "7188a8d7-1ab9-4040-e75d-67b73f5a3f44",
        "tags": []
      },
      "outputs": [
        {
          "output_type": "stream",
          "name": "stdout",
          "text": [
            "  Installing build dependencies ... \u001b[?25l\u001b[?25hdone\n",
            "  Getting requirements to build wheel ... \u001b[?25l\u001b[?25hdone\n",
            "  Preparing metadata (pyproject.toml) ... \u001b[?25l\u001b[?25hdone\n",
            "Collecting git+https://github.com/huggingface/accelerate.git\n",
            "  Cloning https://github.com/huggingface/accelerate.git to /tmp/pip-req-build-kovw36et\n",
            "  Running command git clone --filter=blob:none --quiet https://github.com/huggingface/accelerate.git /tmp/pip-req-build-kovw36et\n",
            "  Resolved https://github.com/huggingface/accelerate.git to commit 1f7a79b428749f45187ec69485f2c966fe21926e\n",
            "  Installing build dependencies ... \u001b[?25l\u001b[?25hdone\n",
            "  Getting requirements to build wheel ... \u001b[?25l\u001b[?25hdone\n",
            "  Preparing metadata (pyproject.toml) ... \u001b[?25l\u001b[?25hdone\n",
            "Requirement already satisfied: numpy<2.0.0,>=1.17 in /usr/local/lib/python3.10/dist-packages (from accelerate==0.32.0.dev0) (1.25.2)\n",
            "Requirement already satisfied: packaging>=20.0 in /usr/local/lib/python3.10/dist-packages (from accelerate==0.32.0.dev0) (24.1)\n",
            "Requirement already satisfied: psutil in /usr/local/lib/python3.10/dist-packages (from accelerate==0.32.0.dev0) (5.9.5)\n",
            "Requirement already satisfied: pyyaml in /usr/local/lib/python3.10/dist-packages (from accelerate==0.32.0.dev0) (6.0.1)\n",
            "Requirement already satisfied: torch>=1.10.0 in /usr/local/lib/python3.10/dist-packages (from accelerate==0.32.0.dev0) (2.3.0+cu121)\n",
            "Requirement already satisfied: huggingface-hub in /usr/local/lib/python3.10/dist-packages (from accelerate==0.32.0.dev0) (0.23.3)\n",
            "Requirement already satisfied: safetensors>=0.3.1 in /usr/local/lib/python3.10/dist-packages (from accelerate==0.32.0.dev0) (0.4.3)\n",
            "Requirement already satisfied: filelock in /usr/local/lib/python3.10/dist-packages (from torch>=1.10.0->accelerate==0.32.0.dev0) (3.14.0)\n",
            "Requirement already satisfied: typing-extensions>=4.8.0 in /usr/local/lib/python3.10/dist-packages (from torch>=1.10.0->accelerate==0.32.0.dev0) (4.12.2)\n",
            "Requirement already satisfied: sympy in /usr/local/lib/python3.10/dist-packages (from torch>=1.10.0->accelerate==0.32.0.dev0) (1.12.1)\n",
            "Requirement already satisfied: networkx in /usr/local/lib/python3.10/dist-packages (from torch>=1.10.0->accelerate==0.32.0.dev0) (3.3)\n",
            "Requirement already satisfied: jinja2 in /usr/local/lib/python3.10/dist-packages (from torch>=1.10.0->accelerate==0.32.0.dev0) (3.1.4)\n",
            "Requirement already satisfied: fsspec in /usr/local/lib/python3.10/dist-packages (from torch>=1.10.0->accelerate==0.32.0.dev0) (2023.6.0)\n",
            "Requirement already satisfied: nvidia-cuda-nvrtc-cu12==12.1.105 in /usr/local/lib/python3.10/dist-packages (from torch>=1.10.0->accelerate==0.32.0.dev0) (12.1.105)\n",
            "Requirement already satisfied: nvidia-cuda-runtime-cu12==12.1.105 in /usr/local/lib/python3.10/dist-packages (from torch>=1.10.0->accelerate==0.32.0.dev0) (12.1.105)\n",
            "Requirement already satisfied: nvidia-cuda-cupti-cu12==12.1.105 in /usr/local/lib/python3.10/dist-packages (from torch>=1.10.0->accelerate==0.32.0.dev0) (12.1.105)\n",
            "Requirement already satisfied: nvidia-cudnn-cu12==8.9.2.26 in /usr/local/lib/python3.10/dist-packages (from torch>=1.10.0->accelerate==0.32.0.dev0) (8.9.2.26)\n",
            "Requirement already satisfied: nvidia-cublas-cu12==12.1.3.1 in /usr/local/lib/python3.10/dist-packages (from torch>=1.10.0->accelerate==0.32.0.dev0) (12.1.3.1)\n",
            "Requirement already satisfied: nvidia-cufft-cu12==11.0.2.54 in /usr/local/lib/python3.10/dist-packages (from torch>=1.10.0->accelerate==0.32.0.dev0) (11.0.2.54)\n",
            "Requirement already satisfied: nvidia-curand-cu12==10.3.2.106 in /usr/local/lib/python3.10/dist-packages (from torch>=1.10.0->accelerate==0.32.0.dev0) (10.3.2.106)\n",
            "Requirement already satisfied: nvidia-cusolver-cu12==11.4.5.107 in /usr/local/lib/python3.10/dist-packages (from torch>=1.10.0->accelerate==0.32.0.dev0) (11.4.5.107)\n",
            "Requirement already satisfied: nvidia-cusparse-cu12==12.1.0.106 in /usr/local/lib/python3.10/dist-packages (from torch>=1.10.0->accelerate==0.32.0.dev0) (12.1.0.106)\n",
            "Requirement already satisfied: nvidia-nccl-cu12==2.20.5 in /usr/local/lib/python3.10/dist-packages (from torch>=1.10.0->accelerate==0.32.0.dev0) (2.20.5)\n",
            "Requirement already satisfied: nvidia-nvtx-cu12==12.1.105 in /usr/local/lib/python3.10/dist-packages (from torch>=1.10.0->accelerate==0.32.0.dev0) (12.1.105)\n",
            "Requirement already satisfied: triton==2.3.0 in /usr/local/lib/python3.10/dist-packages (from torch>=1.10.0->accelerate==0.32.0.dev0) (2.3.0)\n",
            "Requirement already satisfied: nvidia-nvjitlink-cu12 in /usr/local/lib/python3.10/dist-packages (from nvidia-cusolver-cu12==11.4.5.107->torch>=1.10.0->accelerate==0.32.0.dev0) (12.5.40)\n",
            "Requirement already satisfied: requests in /usr/local/lib/python3.10/dist-packages (from huggingface-hub->accelerate==0.32.0.dev0) (2.31.0)\n",
            "Requirement already satisfied: tqdm>=4.42.1 in /usr/local/lib/python3.10/dist-packages (from huggingface-hub->accelerate==0.32.0.dev0) (4.66.4)\n",
            "Requirement already satisfied: MarkupSafe>=2.0 in /usr/local/lib/python3.10/dist-packages (from jinja2->torch>=1.10.0->accelerate==0.32.0.dev0) (2.1.5)\n",
            "Requirement already satisfied: charset-normalizer<4,>=2 in /usr/local/lib/python3.10/dist-packages (from requests->huggingface-hub->accelerate==0.32.0.dev0) (3.3.2)\n",
            "Requirement already satisfied: idna<4,>=2.5 in /usr/local/lib/python3.10/dist-packages (from requests->huggingface-hub->accelerate==0.32.0.dev0) (3.7)\n",
            "Requirement already satisfied: urllib3<3,>=1.21.1 in /usr/local/lib/python3.10/dist-packages (from requests->huggingface-hub->accelerate==0.32.0.dev0) (2.0.7)\n",
            "Requirement already satisfied: certifi>=2017.4.17 in /usr/local/lib/python3.10/dist-packages (from requests->huggingface-hub->accelerate==0.32.0.dev0) (2024.6.2)\n",
            "Requirement already satisfied: mpmath<1.4.0,>=1.1.0 in /usr/local/lib/python3.10/dist-packages (from sympy->torch>=1.10.0->accelerate==0.32.0.dev0) (1.3.0)\n",
            "Collecting git+https://github.com/huggingface/transformers.git\n",
            "  Cloning https://github.com/huggingface/transformers.git to /tmp/pip-req-build-98lf8l26\n",
            "  Running command git clone --filter=blob:none --quiet https://github.com/huggingface/transformers.git /tmp/pip-req-build-98lf8l26\n",
            "  Resolved https://github.com/huggingface/transformers.git to commit 1fd60fec75b2f75432cca48ff79d606e084a9bc2\n",
            "  Installing build dependencies ... \u001b[?25l\u001b[?25hdone\n",
            "  Getting requirements to build wheel ... \u001b[?25l\u001b[?25hdone\n",
            "  Preparing metadata (pyproject.toml) ... \u001b[?25l\u001b[?25hdone\n",
            "Requirement already satisfied: filelock in /usr/local/lib/python3.10/dist-packages (from transformers==4.42.0.dev0) (3.14.0)\n",
            "Requirement already satisfied: huggingface-hub<1.0,>=0.23.2 in /usr/local/lib/python3.10/dist-packages (from transformers==4.42.0.dev0) (0.23.3)\n",
            "Requirement already satisfied: numpy>=1.17 in /usr/local/lib/python3.10/dist-packages (from transformers==4.42.0.dev0) (1.25.2)\n",
            "Requirement already satisfied: packaging>=20.0 in /usr/local/lib/python3.10/dist-packages (from transformers==4.42.0.dev0) (24.1)\n",
            "Requirement already satisfied: pyyaml>=5.1 in /usr/local/lib/python3.10/dist-packages (from transformers==4.42.0.dev0) (6.0.1)\n",
            "Requirement already satisfied: regex!=2019.12.17 in /usr/local/lib/python3.10/dist-packages (from transformers==4.42.0.dev0) (2024.5.15)\n",
            "Requirement already satisfied: requests in /usr/local/lib/python3.10/dist-packages (from transformers==4.42.0.dev0) (2.31.0)\n",
            "Requirement already satisfied: tokenizers<0.20,>=0.19 in /usr/local/lib/python3.10/dist-packages (from transformers==4.42.0.dev0) (0.19.1)\n",
            "Requirement already satisfied: safetensors>=0.4.1 in /usr/local/lib/python3.10/dist-packages (from transformers==4.42.0.dev0) (0.4.3)\n",
            "Requirement already satisfied: tqdm>=4.27 in /usr/local/lib/python3.10/dist-packages (from transformers==4.42.0.dev0) (4.66.4)\n",
            "Requirement already satisfied: fsspec>=2023.5.0 in /usr/local/lib/python3.10/dist-packages (from huggingface-hub<1.0,>=0.23.2->transformers==4.42.0.dev0) (2023.6.0)\n",
            "Requirement already satisfied: typing-extensions>=3.7.4.3 in /usr/local/lib/python3.10/dist-packages (from huggingface-hub<1.0,>=0.23.2->transformers==4.42.0.dev0) (4.12.2)\n",
            "Requirement already satisfied: charset-normalizer<4,>=2 in /usr/local/lib/python3.10/dist-packages (from requests->transformers==4.42.0.dev0) (3.3.2)\n",
            "Requirement already satisfied: idna<4,>=2.5 in /usr/local/lib/python3.10/dist-packages (from requests->transformers==4.42.0.dev0) (3.7)\n",
            "Requirement already satisfied: urllib3<3,>=1.21.1 in /usr/local/lib/python3.10/dist-packages (from requests->transformers==4.42.0.dev0) (2.0.7)\n",
            "Requirement already satisfied: certifi>=2017.4.17 in /usr/local/lib/python3.10/dist-packages (from requests->transformers==4.42.0.dev0) (2024.6.2)\n",
            "Requirement already satisfied: bitsandbytes in /usr/local/lib/python3.10/dist-packages (0.43.1)\n",
            "Requirement already satisfied: torch in /usr/local/lib/python3.10/dist-packages (from bitsandbytes) (2.3.0+cu121)\n",
            "Requirement already satisfied: numpy in /usr/local/lib/python3.10/dist-packages (from bitsandbytes) (1.25.2)\n",
            "Requirement already satisfied: filelock in /usr/local/lib/python3.10/dist-packages (from torch->bitsandbytes) (3.14.0)\n",
            "Requirement already satisfied: typing-extensions>=4.8.0 in /usr/local/lib/python3.10/dist-packages (from torch->bitsandbytes) (4.12.2)\n",
            "Requirement already satisfied: sympy in /usr/local/lib/python3.10/dist-packages (from torch->bitsandbytes) (1.12.1)\n",
            "Requirement already satisfied: networkx in /usr/local/lib/python3.10/dist-packages (from torch->bitsandbytes) (3.3)\n",
            "Requirement already satisfied: jinja2 in /usr/local/lib/python3.10/dist-packages (from torch->bitsandbytes) (3.1.4)\n",
            "Requirement already satisfied: fsspec in /usr/local/lib/python3.10/dist-packages (from torch->bitsandbytes) (2023.6.0)\n",
            "Requirement already satisfied: nvidia-cuda-nvrtc-cu12==12.1.105 in /usr/local/lib/python3.10/dist-packages (from torch->bitsandbytes) (12.1.105)\n",
            "Requirement already satisfied: nvidia-cuda-runtime-cu12==12.1.105 in /usr/local/lib/python3.10/dist-packages (from torch->bitsandbytes) (12.1.105)\n",
            "Requirement already satisfied: nvidia-cuda-cupti-cu12==12.1.105 in /usr/local/lib/python3.10/dist-packages (from torch->bitsandbytes) (12.1.105)\n",
            "Requirement already satisfied: nvidia-cudnn-cu12==8.9.2.26 in /usr/local/lib/python3.10/dist-packages (from torch->bitsandbytes) (8.9.2.26)\n",
            "Requirement already satisfied: nvidia-cublas-cu12==12.1.3.1 in /usr/local/lib/python3.10/dist-packages (from torch->bitsandbytes) (12.1.3.1)\n",
            "Requirement already satisfied: nvidia-cufft-cu12==11.0.2.54 in /usr/local/lib/python3.10/dist-packages (from torch->bitsandbytes) (11.0.2.54)\n",
            "Requirement already satisfied: nvidia-curand-cu12==10.3.2.106 in /usr/local/lib/python3.10/dist-packages (from torch->bitsandbytes) (10.3.2.106)\n",
            "Requirement already satisfied: nvidia-cusolver-cu12==11.4.5.107 in /usr/local/lib/python3.10/dist-packages (from torch->bitsandbytes) (11.4.5.107)\n",
            "Requirement already satisfied: nvidia-cusparse-cu12==12.1.0.106 in /usr/local/lib/python3.10/dist-packages (from torch->bitsandbytes) (12.1.0.106)\n",
            "Requirement already satisfied: nvidia-nccl-cu12==2.20.5 in /usr/local/lib/python3.10/dist-packages (from torch->bitsandbytes) (2.20.5)\n",
            "Requirement already satisfied: nvidia-nvtx-cu12==12.1.105 in /usr/local/lib/python3.10/dist-packages (from torch->bitsandbytes) (12.1.105)\n",
            "Requirement already satisfied: triton==2.3.0 in /usr/local/lib/python3.10/dist-packages (from torch->bitsandbytes) (2.3.0)\n",
            "Requirement already satisfied: nvidia-nvjitlink-cu12 in /usr/local/lib/python3.10/dist-packages (from nvidia-cusolver-cu12==11.4.5.107->torch->bitsandbytes) (12.5.40)\n",
            "Requirement already satisfied: MarkupSafe>=2.0 in /usr/local/lib/python3.10/dist-packages (from jinja2->torch->bitsandbytes) (2.1.5)\n",
            "Requirement already satisfied: mpmath<1.4.0,>=1.1.0 in /usr/local/lib/python3.10/dist-packages (from sympy->torch->bitsandbytes) (1.3.0)\n"
          ]
        }
      ],
      "source": [
        "#Install the lastest versions of peft & transformers library recommended\n",
        "#if you want to work with the most recent models\n",
        "!pip install -q git+https://github.com/huggingface/peft.git\n",
        "!pip install git+https://github.com/huggingface/accelerate.git\n",
        "!pip install git+https://github.com/huggingface/transformers.git\n",
        "!pip install bitsandbytes"
      ]
    },
    {
      "cell_type": "code",
      "execution_count": 21,
      "metadata": {
        "ExecuteTime": {
          "end_time": "2024-06-20T13:56:21.689462Z",
          "start_time": "2024-06-20T13:56:21.597872Z"
        },
        "id": "U1mZ27vbXBCE",
        "tags": []
      },
      "outputs": [],
      "source": [
        "from transformers import AutoModelForCausalLM, AutoTokenizer, BitsAndBytesConfig\n",
        "import torch\n",
        "import accelerate\n",
        "\n"
      ]
    },
    {
      "cell_type": "code",
      "execution_count": 22,
      "metadata": {
        "ExecuteTime": {
          "end_time": "2024-06-20T13:56:21.703602Z",
          "start_time": "2024-06-20T13:56:21.703557Z"
        },
        "id": "rotsX3i-XLJS",
        "tags": []
      },
      "outputs": [],
      "source": [
        "model_name = \"defog/sqlcoder-7b\""
      ]
    },
    {
      "cell_type": "markdown",
      "metadata": {
        "id": "2fHZsPTa5yun"
      },
      "source": [
        "We need to create the Quantization configuration to load the Model.\n",
        "\n",
        "It is a large model and I want it to fit in a 16GB GPU, I'm going to use a 4 bits quantization.\n",
        "\n",
        "If you want to learn more about quantization, refer to this article: [QLoRA: Training a Large Language Model on a 16GB GPU.](https://medium.com/towards-artificial-intelligence/qlora-training-a-large-language-model-on-a-16gb-gpu-00ea965667c1)\n",
        "\n",
        "You can try to use this model in a 8 bit quantizations and check in you see any improvements in the results."
      ]
    },
    {
      "cell_type": "code",
      "execution_count": 23,
      "metadata": {
        "id": "Oio2Fm7GXa6K",
        "tags": []
      },
      "outputs": [],
      "source": [
        "bnb_config = BitsAndBytesConfig(\n",
        "  load_in_4bit=True,\n",
        "  bnb_4bit_use_double_quant=True,\n",
        "  bnb_4bit_quant_type=\"nf4\",\n",
        "  bnb_4bit_compute_dtype=torch.bfloat16\n",
        ")\n"
      ]
    },
    {
      "cell_type": "markdown",
      "metadata": {
        "id": "915oTn7T6fvW"
      },
      "source": [
        "To load the model I pass to the AutoModelForCasualLM teh quantization configurations, and HuggingFace take care of all the hard work."
      ]
    },
    {
      "cell_type": "code",
      "execution_count": 24,
      "metadata": {
        "colab": {
          "base_uri": "https://localhost:8080/",
          "height": 49,
          "referenced_widgets": [
            "10858fb8ab8a4a1fa9dd92f9af918f57",
            "7efbfe99422f48e3a3fb52b5a17c1b32",
            "6037db045bd5478aa0281c130d910af2",
            "a4f8a6eda3564f1581f02d1f3e92044b",
            "613aa121dbb04595906a734f849a8cf0",
            "1cd87a8fa9c84902a037e90b944c7197",
            "0453ef74f94044f0ad379753345d9465",
            "494977d46bfb4428a7c3e72284e0af23",
            "d39375e8d5064e16ba163c6b7bbc7ae0",
            "e104263e2f414e7689f9348951dc90a0",
            "22074b05e44e4e6b9453072ad668232b"
          ]
        },
        "id": "Q8-VpiCBXcst",
        "outputId": "0eef9b09-04b3-4002-fbe0-65933488a140",
        "tags": []
      },
      "outputs": [
        {
          "output_type": "display_data",
          "data": {
            "text/plain": [
              "Loading checkpoint shards:   0%|          | 0/2 [00:00<?, ?it/s]"
            ],
            "application/vnd.jupyter.widget-view+json": {
              "version_major": 2,
              "version_minor": 0,
              "model_id": "10858fb8ab8a4a1fa9dd92f9af918f57"
            }
          },
          "metadata": {}
        }
      ],
      "source": [
        "foundation_model = AutoModelForCausalLM.from_pretrained(model_name,\n",
        "                    quantization_config=bnb_config,\n",
        "                    device_map='auto',\n",
        "                    use_cache=True)"
      ]
    },
    {
      "cell_type": "code",
      "execution_count": 31,
      "metadata": {
        "id": "E2Oz6Sm8X5Qo",
        "tags": []
      },
      "outputs": [],
      "source": [
        "tokenizer = AutoTokenizer.from_pretrained(model_name)\n",
        "eos_token_id = tokenizer.convert_tokens_to_ids([\"```\"])[0]"
      ]
    },
    {
      "cell_type": "markdown",
      "metadata": {
        "id": "NV-Qk6327Z30"
      },
      "source": [
        "This function wraps the call to *model.generate*"
      ]
    },
    {
      "cell_type": "code",
      "execution_count": 32,
      "metadata": {
        "id": "l4vEDNRGtvdn"
      },
      "outputs": [],
      "source": [
        "#this function returns the outputs from the model received, and inputs.\n",
        "def get_outputs(model, inputs, max_new_tokens=400):\n",
        "    outputs = model.generate(\n",
        "        input_ids=inputs[\"input_ids\"],\n",
        "        attention_mask=inputs[\"attention_mask\"],\n",
        "        num_return_sequences=1,\n",
        "        eos_token_id=eos_token_id,\n",
        "        pad_token_id=eos_token_id,\n",
        "        max_new_tokens=max_new_tokens,\n",
        "        do_sample=False,\n",
        "        num_beams=5\n",
        "    )\n",
        "    return outputs"
      ]
    },
    {
      "cell_type": "markdown",
      "metadata": {
        "id": "y88PVExjKCvQ"
      },
      "source": [
        "# Prompt without Shots.\n",
        "In this first PROMPT we are going to give Instructions to the model and pass the structure of the Database.\n",
        "\n",
        "The instructions are significantly different from those we are passing to GPT-3.5-Turbo. This model is really well fine-tuned, but it is smaller than GPT-3.5.\n",
        "\n",
        "We need to be more clear with the instructions, as it does not have the same capacity to understand our orders as GPT-3.5."
      ]
    },
    {
      "cell_type": "code",
      "execution_count": 33,
      "metadata": {
        "id": "U8K4XWDQJH_p"
      },
      "outputs": [],
      "source": [
        "sp_nl2sql = \"\"\"\n",
        "    ### Instructions:\n",
        "Your task is convert a question into a SQL query, given a SQL database schema.\n",
        "Adhere to these rules:\n",
        "- **Deliberately go through the question and database schema word by word** to appropriately answer the question\n",
        "\n",
        "    ### Input\n",
        "    Generate a SQL query that answers the question below.\n",
        "    This query will run on a database whose schema is represented in this string:\n",
        "\n",
        "    Schema:\n",
        "    Table 1: Courses\n",
        "    Table: courses\n",
        "    Fields:\n",
        "    - course_ID: int\n",
        "    - course_name: varchar\n",
        "    - description: text\n",
        "    - credits: int\n",
        "    - department: varchar\n",
        "\n",
        "    Table 2: Instructors\n",
        "    Table: instructors\n",
        "    Fields:\n",
        "    - instructor_ID: int\n",
        "    - name: varchar\n",
        "    - email: varchar\n",
        "    - department: varchar\n",
        "    - hire_date: date\n",
        "\n",
        "    Table 3: Enrollments\n",
        "    Table: enrollments\n",
        "    Fields:\n",
        "    - enrollment_ID: int\n",
        "    - student_ID: int\n",
        "    - course_ID: int\n",
        "    - enrollment_date: date\n",
        "    - grade: varchar\n",
        "\n",
        "    Table 4: Departments\n",
        "    Table: departments\n",
        "    Fields:\n",
        "    - department_ID: int\n",
        "    - name: varchar\n",
        "    - building: varchar\n",
        "    - budget: float\n",
        "\n",
        "    Table 5: Research_Projects\n",
        "    Table: research_projects\n",
        "    Fields:\n",
        "    - project_ID: int\n",
        "    - title: varchar\n",
        "    - lead_instructor_ID: int\n",
        "    - start_date: date\n",
        "    - end_date: date\n",
        "    - funding_amount: float\n",
        "\n",
        "\n",
        "    ### Response\n",
        "    Based on your instructions, here is the SQL query I have generated to answer the question\n",
        "    `{question}`:\n",
        "    ```sql3\n",
        "    \"\"\""
      ]
    },
    {
      "cell_type": "code",
      "execution_count": 34,
      "metadata": {
        "colab": {
          "base_uri": "https://localhost:8080/"
        },
        "id": "tIgEZpmSlG0I",
        "outputId": "db0f9586-b634-4792-df6f-49b6a4765e8d",
        "collapsed": true
      },
      "outputs": [
        {
          "output_type": "stream",
          "name": "stdout",
          "text": [
            "\n",
            "    ### Instructions:\n",
            "Your task is convert a question into a SQL query, given a SQL database schema.\n",
            "Adhere to these rules:\n",
            "- **Deliberately go through the question and database schema word by word** to appropriately answer the question\n",
            "\n",
            "    ### Input\n",
            "    Generate a SQL query that answers the question below.\n",
            "    This query will run on a database whose schema is represented in this string:\n",
            "\n",
            "    Schema:\n",
            "    Table 1: Courses\n",
            "    Table: courses\n",
            "    Fields:\n",
            "    - course_ID: int\n",
            "    - course_name: varchar\n",
            "    - description: text\n",
            "    - credits: int\n",
            "    - department: varchar\n",
            "\n",
            "    Table 2: Instructors\n",
            "    Table: instructors\n",
            "    Fields:\n",
            "    - instructor_ID: int\n",
            "    - name: varchar\n",
            "    - email: varchar\n",
            "    - department: varchar\n",
            "    - hire_date: date\n",
            "\n",
            "    Table 3: Enrollments\n",
            "    Table: enrollments\n",
            "    Fields:\n",
            "    - enrollment_ID: int\n",
            "    - student_ID: int\n",
            "    - course_ID: int\n",
            "    - enrollment_date: date\n",
            "    - grade: varchar\n",
            "\n",
            "    Table 4: Departments\n",
            "    Table: departments\n",
            "    Fields:\n",
            "    - department_ID: int\n",
            "    - name: varchar\n",
            "    - building: varchar\n",
            "    - budget: float\n",
            "\n",
            "    Table 5: Research_Projects\n",
            "    Table: research_projects\n",
            "    Fields:\n",
            "    - project_ID: int\n",
            "    - title: varchar\n",
            "    - lead_instructor_ID: int\n",
            "    - start_date: date\n",
            "    - end_date: date\n",
            "    - funding_amount: float\n",
            "\n",
            "\n",
            "    ### Response\n",
            "    Based on your instructions, here is the SQL query I have generated to answer the question\n",
            "    `how can i find the emails and names of hires in the last 6 months?`:\n",
            "    ```sql3\n",
            "    \n"
          ]
        }
      ],
      "source": [
        "sp_nl2sql = sp_nl2sql.format(question=\"how can i find the emails and names of hires in the last 6 months?\")\n",
        "print(sp_nl2sql)"
      ]
    },
    {
      "cell_type": "code",
      "execution_count": 35,
      "metadata": {
        "id": "Mp3TDRQtltX9",
        "colab": {
          "base_uri": "https://localhost:8080/"
        },
        "outputId": "9812f5dc-747d-4ebf-b420-fdca26d2d6f7"
      },
      "outputs": [
        {
          "output_type": "stream",
          "name": "stdout",
          "text": [
            "\n",
            "    ### Instructions:\n",
            "Your task is convert a question into a SQL query, given a SQL database schema.\n",
            "Adhere to these rules:\n",
            "- **Deliberately go through the question and database schema word by word** to appropriately answer the question\n",
            "\n",
            "    ### Input\n",
            "    Generate a SQL query that answers the question below.\n",
            "    This query will run on a database whose schema is represented in this string:\n",
            "\n",
            "    Schema:\n",
            "    Table 1: Courses\n",
            "    Table: courses\n",
            "    Fields:\n",
            "    - course_ID: int\n",
            "    - course_name: varchar\n",
            "    - description: text\n",
            "    - credits: int\n",
            "    - department: varchar\n",
            "\n",
            "    Table 2: Instructors\n",
            "    Table: instructors\n",
            "    Fields:\n",
            "    - instructor_ID: int\n",
            "    - name: varchar\n",
            "    - email: varchar\n",
            "    - department: varchar\n",
            "    - hire_date: date\n",
            "\n",
            "    Table 3: Enrollments\n",
            "    Table: enrollments\n",
            "    Fields:\n",
            "    - enrollment_ID: int\n",
            "    - student_ID: int\n",
            "    - course_ID: int\n",
            "    - enrollment_date: date\n",
            "    - grade: varchar\n",
            "\n",
            "    Table 4: Departments\n",
            "    Table: departments\n",
            "    Fields:\n",
            "    - department_ID: int\n",
            "    - name: varchar\n",
            "    - building: varchar\n",
            "    - budget: float\n",
            "\n",
            "    Table 5: Research_Projects\n",
            "    Table: research_projects\n",
            "    Fields:\n",
            "    - project_ID: int\n",
            "    - title: varchar\n",
            "    - lead_instructor_ID: int\n",
            "    - start_date: date\n",
            "    - end_date: date\n",
            "    - funding_amount: float\n",
            "\n",
            "\n",
            "    ### Response\n",
            "    Based on your instructions, here is the SQL query I have generated to answer the question\n",
            "    `how can i find the emails and names of hires in the last 6 months?`:\n",
            "    ```sql3\n",
            "     SELECT instructors.name, instructors.email FROM instructors JOIN enrollments ON instructors.instructor_ID = enrollments.instructor_ID WHERE enrollments.enrollment_date >= (CURRENT_DATE - interval '6 months') GROUP BY instructors.name, instructors.email ORDER BY instructors.name NULLS LAST;\n",
            "    ``` SELECT instructors.name, instructors.email FROM instructors JOIN enrollments ON instructors.instructor_ID = enrollments.instructor_ID WHERE enrollments.enrollment_date >= (CURRENT_DATE - interval '6 months') GROUP BY instructors.name, instructors.email ORDER BY instructors.name NULLS LAST; SELECT instructors.name, instructors.email FROM instructors JOIN enrollments ON instructors.instructor_ID = enrollments.instructor_ID WHERE enrollments.enrollment_date >= (CURRENT_DATE - interval '6 months') GROUP BY instructors.name, instructors.email ORDER BY instructors.name NULLS LAST; SELECT instructors.name, instructors.email FROM instructors JOIN enrollments ON instructors.instructor_ID = enrollments.instructor_ID WHERE enrollments.enrollment_date >= (CURRENT_DATE - interval '6 months') GROUP BY instructors.name, instructors.email ORDER BY instructors.name NULLS LAST; SELECT instructors.name, instructors.email FROM instructors JOIN enrollments ON instructors.instructor_ID = enrollments.instructor_ID WHERE enrollments.enrollment_date >= (CURRENT_DATE - interval '6 months') GROUP BY instructors.name, instructors.\n"
          ]
        }
      ],
      "source": [
        "# Tokenize the input sentences\n",
        "input_sentences = tokenizer(sp_nl2sql, return_tensors=\"pt\").to('cuda')\n",
        "\n",
        "# Generate response from the model\n",
        "response = get_outputs(foundation_model, input_sentences, max_new_tokens=400)\n",
        "\n",
        "# Decode the response to SQL query\n",
        "SQL = tokenizer.batch_decode(response, skip_special_tokens=True)"
      ]
    },
    {
      "cell_type": "code",
      "execution_count": 36,
      "metadata": {
        "id": "hWouSh-7rpCk"
      },
      "outputs": [],
      "source": [
        "#Empty the cache in orde to do more calls without problems.\n",
        "torch.cuda.empty_cache()"
      ]
    },
    {
      "cell_type": "code",
      "execution_count": 37,
      "metadata": {
        "colab": {
          "base_uri": "https://localhost:8080/"
        },
        "id": "g0V5XuDp0sCi",
        "outputId": "26d10ccb-9cf9-4ce2-ab8c-79b10991ad2a"
      },
      "outputs": [
        {
          "output_type": "stream",
          "name": "stdout",
          "text": [
            "SELECT instructors.name, instructors.email FROM instructors JOIN enrollments ON instructors.instructor_ID = enrollments.instructor_ID WHERE enrollments.enrollment_date >= (CURRENT_DATE - interval '6 months') GROUP BY instructors.name, instructors.email ORDER BY instructors.name NULLS LAST;\n"
          ]
        }
      ],
      "source": [
        "print(SQL[0].split(\"```sql3\")[-1].split(\"```\")[0].split(\";\")[0].strip() + \";\")"
      ]
    },
    {
      "cell_type": "markdown",
      "metadata": {
        "id": "VKrjztcK-zDm"
      },
      "source": [
        "The SQL Order is correct."
      ]
    },
    {
      "cell_type": "markdown",
      "metadata": {
        "id": "d0hogn4fKP1f"
      },
      "source": [
        "#Prompt with shots OpenAI Style.\n",
        "In this second prompt we are going to add some Shots with samples to see if our SQL style affects the model."
      ]
    },
    {
      "cell_type": "code",
      "execution_count": 41,
      "metadata": {
        "id": "qNPXi3twuN7-"
      },
      "outputs": [],
      "source": [
        "sp_nl2sql2 = \"\"\"\n",
        "    ### Instructions:\n",
        "Your task is convert a question into a SQL query, given a SQL database schema.\n",
        "Adhere to these rules:\n",
        "- **Deliberately go through the question and database schema word by word** to appropriately answer the question\n",
        "- **Use the samples SQL In the ### Samples section to clearn more about teh Databases structure\n",
        "\n",
        "\n",
        "    ### Input\n",
        "    Generate a SQL query that answers the question below.\n",
        "    This query will run on a database whose schema is represented in this string:\n",
        "\n",
        "    Schema:\n",
        "    Table 1: Courses\n",
        "    Table: courses\n",
        "    Fields:\n",
        "    - course_ID: int\n",
        "    - course_name: varchar\n",
        "    - description: text\n",
        "    - credits: int\n",
        "    - department: varchar\n",
        "\n",
        "\n",
        "    Table 2: Instructors\n",
        "    Table: instructors\n",
        "    Fields:\n",
        "    - instructor_ID: int\n",
        "    - name: varchar\n",
        "    - email: varchar\n",
        "    - department: varchar\n",
        "    - hire_date: date\n",
        "\n",
        "    Table 3: Enrollments\n",
        "    Table: enrollments\n",
        "    Fields:\n",
        "    - enrollment_ID: int\n",
        "    - student_ID: int\n",
        "    - course_ID: int\n",
        "    - enrollment_date: date\n",
        "    - grade: varchar\n",
        "\n",
        "    Table 4: Departments\n",
        "    Table: departments\n",
        "    Fields:\n",
        "    - department_ID: int\n",
        "    - name: varchar\n",
        "    - building: varchar\n",
        "    - budget: float\n",
        "\n",
        "    Table 5: Research_Projects\n",
        "    Table: research_projects\n",
        "    Fields:\n",
        "    - project_ID: int\n",
        "    - title: varchar\n",
        "    - lead_instructor_ID: int\n",
        "    - start_date: date\n",
        "    - end_date: date\n",
        "    - funding_amount: float\n",
        "\n",
        "### Question:Response One Shot\n",
        "    how can i find the emails and names of hires in the last 6 months?:\n",
        "    SELECT instructors.name, instructors.email\n",
        "    FROM instructors\n",
        "    JOIN enrollments ON instructors.instructor_ID = enrollments.instructor_ID\n",
        "    WHERE enrollments.enrollment_date >= (CURRENT_DATE - interval '6 months')\n",
        "    GROUP BY instructors.name, instructors.email\n",
        "    ORDER BY instructors.name NULLS LAST;\n",
        "\n",
        "\n",
        "    `{question}`:\n",
        "    ```sql3\n",
        "    \"\"\"\n"
      ]
    },
    {
      "cell_type": "code",
      "execution_count": 42,
      "metadata": {
        "colab": {
          "base_uri": "https://localhost:8080/"
        },
        "id": "7vy338SDLr5u",
        "outputId": "1746f78d-9610-4e68-d9f7-18cb651ea829"
      },
      "outputs": [
        {
          "output_type": "stream",
          "name": "stdout",
          "text": [
            "\n",
            "    ### Instructions:\n",
            "Your task is convert a question into a SQL query, given a SQL database schema.\n",
            "Adhere to these rules:\n",
            "- **Deliberately go through the question and database schema word by word** to appropriately answer the question\n",
            "- **Use the samples SQL In the ### Samples section to clearn more about teh Databases structure\n",
            "\n",
            "\n",
            "    ### Input\n",
            "    Generate a SQL query that answers the question below.\n",
            "    This query will run on a database whose schema is represented in this string:\n",
            "\n",
            "    Schema:\n",
            "    Table 1: Courses\n",
            "    Table: courses\n",
            "    Fields:\n",
            "    - course_ID: int\n",
            "    - course_name: varchar\n",
            "    - description: text\n",
            "    - credits: int\n",
            "    - department: varchar\n",
            "\n",
            "    Table 2: Instructors\n",
            "    Table: instructors\n",
            "    Fields:\n",
            "    - instructor_ID: int\n",
            "    - name: varchar\n",
            "    - email: varchar\n",
            "    - department: varchar\n",
            "    - hire_date: date\n",
            "\n",
            "    Table 3: Enrollments\n",
            "    Table: enrollments\n",
            "    Fields:\n",
            "    - enrollment_ID: int\n",
            "    - student_ID: int\n",
            "    - course_ID: int\n",
            "    - enrollment_date: date\n",
            "    - grade: varchar\n",
            "\n",
            "    Table 4: Departments\n",
            "    Table: departments\n",
            "    Fields:\n",
            "    - department_ID: int\n",
            "    - name: varchar\n",
            "    - building: varchar\n",
            "    - budget: float\n",
            "\n",
            "    Table 5: Research_Projects\n",
            "    Table: research_projects\n",
            "    Fields:\n",
            "    - project_ID: int\n",
            "    - title: varchar\n",
            "    - lead_instructor_ID: int\n",
            "    - start_date: date\n",
            "    - end_date: date\n",
            "    - funding_amount: float\n",
            "\n",
            "### Question:Response One Shot\n",
            "    how can i find the emails and names of hires in the last 6 months?:\n",
            "    SELECT instructors.name, instructors.email \n",
            "    FROM instructors \n",
            "    JOIN enrollments ON instructors.instructor_ID = enrollments.instructor_ID \n",
            "    WHERE enrollments.enrollment_date >= (CURRENT_DATE - interval '6 months') \n",
            "    GROUP BY instructors.name, instructors.email \n",
            "    ORDER BY instructors.name NULLS LAST;\n",
            "\n",
            "\n",
            "    `Return The name of the best paid employee`:\n",
            "    ```sql3\n",
            "    \n"
          ]
        }
      ],
      "source": [
        "sp_nl2sql2 = sp_nl2sql2.format(question=\"Return The name of the best paid employee\")\n",
        "(print(sp_nl2sql2))\n",
        "\n"
      ]
    },
    {
      "cell_type": "code",
      "execution_count": 43,
      "metadata": {
        "id": "Cvk9hJfhLwQJ"
      },
      "outputs": [],
      "source": [
        "input_sentences = tokenizer(sp_nl2sql2, return_tensors=\"pt\").to('cuda')\n",
        "response = get_outputs(foundation_model, input_sentences, max_new_tokens=400)\n",
        "SQL = tokenizer.batch_decode(response, skip_special_tokens=True)\n",
        "torch.cuda.empty_cache()"
      ]
    },
    {
      "cell_type": "code",
      "execution_count": 44,
      "metadata": {
        "colab": {
          "base_uri": "https://localhost:8080/"
        },
        "id": "EQOyi8ZOL1mr",
        "outputId": "200fc1ea-7359-4d4f-be89-8055e7e3d671"
      },
      "outputs": [
        {
          "output_type": "stream",
          "name": "stdout",
          "text": [
            "SELECT departments.name, MAX(research_projects.funding_amount) AS max_funding \n",
            "     FROM research_projects \n",
            "     JOIN lead_instructors ON research_projects.lead_instructor_id = lead_instructors.instructor_id \n",
            "     JOIN instructors ON lead_instructors.instructor_id = instructors.instructor_id \n",
            "     JOIN departments ON instructors.department = departments.department_id \n",
            "     GROUP BY departments.name \n",
            "     ORDER BY max_funding DESC NULLS LAST LIMIT 1;\n"
          ]
        }
      ],
      "source": [
        "print(SQL[0].split(\"```sql3\")[-1].split(\"```\")[0].split(\";\")[0].strip() + \";\")"
      ]
    },
    {
      "cell_type": "markdown",
      "metadata": {
        "id": "buwuhLBw_MAV"
      },
      "source": [
        "The Order is really different from the one obtained with the first prompt.\n",
        "\n",
        "The first difference is the format. But The SQL is realy more simple, at least it is my sensation."
      ]
    },
    {
      "cell_type": "markdown",
      "metadata": {
        "id": "-6S6gI_fNtFk"
      },
      "source": [
        "#Prompt with Shots in Sample Style.\n",
        "\n",
        "In this prompt, we will place the examples in a separate section, and in the instructions, we will instruct the model to pay attention to them in order to generate the SQL commands."
      ]
    },
    {
      "cell_type": "code",
      "execution_count": 46,
      "metadata": {
        "id": "oHSF1l3xNscJ"
      },
      "outputs": [],
      "source": [
        "sp_nl2sql3b = \"\"\"\n",
        "    ### Instructions:\n",
        "Your task is convert a question into a SQL query, given a SQL database schema.\n",
        "Adhere to these rules:\n",
        "- **Deliberately go through the question and database schema word by word** to appropriately answer the question\n",
        "- **Use the samples SQL In the ### Samples section to learn more about the Databases structure\n",
        "\n",
        "\n",
        "    ### Input\n",
        "    Generate a SQL query that answers the question below.\n",
        "    This query will run on a database whose schema is represented in this string:\n",
        "\n",
        "    Schema:\n",
        "    Table 1: Courses\n",
        "    Table: courses\n",
        "    Fields:\n",
        "    - course_ID: int\n",
        "    - course_name: varchar\n",
        "    - description: text\n",
        "    - credits: int\n",
        "    - department: varchar\n",
        "    - students_missing: varchar\n",
        "\n",
        "\n",
        "    Table 2: Instructors\n",
        "    Table: instructors\n",
        "    Fields:\n",
        "    - instructor_ID: int\n",
        "    - name: varchar\n",
        "    - email: varchar\n",
        "    - department: varchar\n",
        "    - hire_date: date\n",
        "\n",
        "    Table 3: Enrollments\n",
        "    Table: enrollments\n",
        "    Fields:\n",
        "    - enrollment_ID: int\n",
        "    - student_ID: int\n",
        "    - course_ID: int\n",
        "    - enrollment_date: date\n",
        "    - grade: varchar\n",
        "\n",
        "    Table 4: Departments\n",
        "    Table: departments\n",
        "    Fields:\n",
        "    - department_ID: int\n",
        "    - name: varchar\n",
        "    - building: varchar\n",
        "    - budget: float\n",
        "\n",
        "    Table 5: Research_Projects\n",
        "    Table: research_projects\n",
        "    Fields:\n",
        "    - project_ID: int\n",
        "    - title: varchar\n",
        "    - lead_instructor_ID: int\n",
        "    - start_date: date\n",
        "    - end_date: date\n",
        "    - funding_amount: float\n",
        "\n",
        "### Question:Response One Shot\n",
        "    how can i find the emails and names of hires in the last 6 months?:\n",
        "    SELECT instructors.name, instructors.email\n",
        "    FROM instructors\n",
        "    JOIN enrollments ON instructors.instructor_ID = enrollments.instructor_ID\n",
        "    WHERE enrollments.enrollment_date >= (CURRENT_DATE - interval '6 months')\n",
        "    GROUP BY instructors.name, instructors.email\n",
        "    ORDER BY instructors.name NULLS LAST;\n",
        "\n",
        "    Return The name of the best paid employee:\n",
        "    I cannot find the salaries in the schema but I can find the best funded employee\n",
        "    SELECT departments.name, MAX(research_projects.funding_amount) AS max_funding\n",
        "    FROM research_projects\n",
        "    JOIN lead_instructors ON research_projects.lead_instructor_id = lead_instructors.instructor_id\n",
        "    JOIN instructors ON lead_instructors.instructor_id = instructors.instructor_id\n",
        "    JOIN departments ON instructors.department = departments.department_id\n",
        "    GROUP BY departments.name\n",
        "    ORDER BY max_funding DESC NULLS LAST LIMIT 1;\n",
        "\n",
        "    ### Response\n",
        "    Based on your instructions, here is the SQL query I have generated to answer the question\n",
        "    `{question}`:\n",
        "    ```sql3\n",
        "    \"\"\"\n"
      ]
    },
    {
      "cell_type": "code",
      "execution_count": 47,
      "metadata": {
        "colab": {
          "base_uri": "https://localhost:8080/"
        },
        "id": "DCfbmvDyOS-u",
        "outputId": "ba4d74b3-c077-4b3f-ffd7-a09bf946629a",
        "collapsed": true
      },
      "outputs": [
        {
          "output_type": "stream",
          "name": "stdout",
          "text": [
            "\n",
            "    ### Instructions:\n",
            "Your task is convert a question into a SQL query, given a SQL database schema.\n",
            "Adhere to these rules:\n",
            "- **Deliberately go through the question and database schema word by word** to appropriately answer the question\n",
            "- **Use the samples SQL In the ### Samples section to learn more about the Databases structure\n",
            "\n",
            "\n",
            "    ### Input\n",
            "    Generate a SQL query that answers the question below.\n",
            "    This query will run on a database whose schema is represented in this string:\n",
            "\n",
            "    Schema:\n",
            "    Table 1: Courses\n",
            "    Table: courses\n",
            "    Fields:\n",
            "    - course_ID: int\n",
            "    - course_name: varchar\n",
            "    - description: text\n",
            "    - credits: int\n",
            "    - department: varchar\n",
            "    - students_missing: varchar\n",
            "  \n",
            "\n",
            "    Table 2: Instructors\n",
            "    Table: instructors\n",
            "    Fields:\n",
            "    - instructor_ID: int\n",
            "    - name: varchar\n",
            "    - email: varchar\n",
            "    - department: varchar\n",
            "    - hire_date: date\n",
            "\n",
            "    Table 3: Enrollments\n",
            "    Table: enrollments\n",
            "    Fields:\n",
            "    - enrollment_ID: int\n",
            "    - student_ID: int\n",
            "    - course_ID: int\n",
            "    - enrollment_date: date\n",
            "    - grade: varchar\n",
            "\n",
            "    Table 4: Departments\n",
            "    Table: departments\n",
            "    Fields:\n",
            "    - department_ID: int\n",
            "    - name: varchar\n",
            "    - building: varchar\n",
            "    - budget: float\n",
            "\n",
            "    Table 5: Research_Projects\n",
            "    Table: research_projects\n",
            "    Fields:\n",
            "    - project_ID: int\n",
            "    - title: varchar\n",
            "    - lead_instructor_ID: int\n",
            "    - start_date: date\n",
            "    - end_date: date\n",
            "    - funding_amount: float\n",
            "\n",
            "### Question:Response One Shot\n",
            "    how can i find the emails and names of hires in the last 6 months?:\n",
            "    SELECT instructors.name, instructors.email \n",
            "    FROM instructors \n",
            "    JOIN enrollments ON instructors.instructor_ID = enrollments.instructor_ID \n",
            "    WHERE enrollments.enrollment_date >= (CURRENT_DATE - interval '6 months') \n",
            "    GROUP BY instructors.name, instructors.email \n",
            "    ORDER BY instructors.name NULLS LAST;\n",
            "\n",
            "    Return The name of the best paid employee:\n",
            "    I cannot find the salaries in the schema but I can find the best funded employee\n",
            "    SELECT departments.name, MAX(research_projects.funding_amount) AS max_funding \n",
            "    FROM research_projects \n",
            "    JOIN lead_instructors ON research_projects.lead_instructor_id = lead_instructors.instructor_id \n",
            "    JOIN instructors ON lead_instructors.instructor_id = instructors.instructor_id \n",
            "    JOIN departments ON instructors.department = departments.department_id \n",
            "    GROUP BY departments.name \n",
            "    ORDER BY max_funding DESC NULLS LAST LIMIT 1;\n",
            "\n",
            "    ### Response\n",
            "    Based on your instructions, here is the SQL query I have generated to answer the question\n",
            "    `find the number of timese each student missed a class`:\n",
            "    ```sql3\n",
            "    \n"
          ]
        }
      ],
      "source": [
        "sp_nl2sql3 = sp_nl2sql3b.format(question=\"find the number of timese each student missed a class\")\n",
        "print (sp_nl2sql3)"
      ]
    },
    {
      "cell_type": "code",
      "execution_count": 48,
      "metadata": {
        "id": "VxsIf4KBOWCk"
      },
      "outputs": [],
      "source": [
        "input_sentences = tokenizer(sp_nl2sql3, return_tensors=\"pt\").to('cuda')\n",
        "response = get_outputs(foundation_model, input_sentences, max_new_tokens=400)\n",
        "SQL = tokenizer.batch_decode(response, skip_special_tokens=True)\n",
        "torch.cuda.empty_cache()"
      ]
    },
    {
      "cell_type": "code",
      "execution_count": 49,
      "metadata": {
        "colab": {
          "base_uri": "https://localhost:8080/"
        },
        "id": "_sE5_a8jOaJ7",
        "outputId": "dfabcd0b-30f4-4aca-e941-cef905b7c58a"
      },
      "outputs": [
        {
          "output_type": "stream",
          "name": "stdout",
          "text": [
            "SELECT students_missing.student_id, students_missing.course_id, COUNT(students_missing.student_id) AS number_of_missed_classes \n",
            "     FROM students_missing \n",
            "     GROUP BY students_missing.student_id, students_missing.course_id \n",
            "     ORDER BY number_of_missed_classes DESC NULLS LAST;\n"
          ]
        }
      ],
      "source": [
        "print(SQL[0].split(\"```sql3\")[-1].split(\"```\")[0].split(\";\")[0].strip() + \";\")"
      ]
    },
    {
      "cell_type": "markdown",
      "metadata": {
        "id": "l5OgzBzKNHzn"
      },
      "source": [
        "#Now the question in spanish.\n"
      ]
    },
    {
      "cell_type": "code",
      "execution_count": 50,
      "metadata": {
        "colab": {
          "base_uri": "https://localhost:8080/"
        },
        "id": "EQuJNMjNFU6a",
        "outputId": "fa3c7aab-18b3-416d-c5ff-29e6654dc20f"
      },
      "outputs": [
        {
          "output_type": "stream",
          "name": "stdout",
          "text": [
            "\n",
            "    ### Instructions:\n",
            "Your task is convert a question into a SQL query, given a SQL database schema.\n",
            "Adhere to these rules:\n",
            "- **Deliberately go through the question and database schema word by word** to appropriately answer the question\n",
            "- **Use the samples SQL In the ### Samples section to learn more about the Databases structure\n",
            "\n",
            "\n",
            "    ### Input\n",
            "    Generate a SQL query that answers the question below.\n",
            "    This query will run on a database whose schema is represented in this string:\n",
            "\n",
            "    Schema:\n",
            "    Table 1: Courses\n",
            "    Table: courses\n",
            "    Fields:\n",
            "    - course_ID: int\n",
            "    - course_name: varchar\n",
            "    - description: text\n",
            "    - credits: int\n",
            "    - department: varchar\n",
            "    - students_missing: varchar\n",
            "  \n",
            "\n",
            "    Table 2: Instructors\n",
            "    Table: instructors\n",
            "    Fields:\n",
            "    - instructor_ID: int\n",
            "    - name: varchar\n",
            "    - email: varchar\n",
            "    - department: varchar\n",
            "    - hire_date: date\n",
            "\n",
            "    Table 3: Enrollments\n",
            "    Table: enrollments\n",
            "    Fields:\n",
            "    - enrollment_ID: int\n",
            "    - student_ID: int\n",
            "    - course_ID: int\n",
            "    - enrollment_date: date\n",
            "    - grade: varchar\n",
            "\n",
            "    Table 4: Departments\n",
            "    Table: departments\n",
            "    Fields:\n",
            "    - department_ID: int\n",
            "    - name: varchar\n",
            "    - building: varchar\n",
            "    - budget: float\n",
            "\n",
            "    Table 5: Research_Projects\n",
            "    Table: research_projects\n",
            "    Fields:\n",
            "    - project_ID: int\n",
            "    - title: varchar\n",
            "    - lead_instructor_ID: int\n",
            "    - start_date: date\n",
            "    - end_date: date\n",
            "    - funding_amount: float\n",
            "\n",
            "### Question:Response One Shot\n",
            "    how can i find the emails and names of hires in the last 6 months?:\n",
            "    SELECT instructors.name, instructors.email \n",
            "    FROM instructors \n",
            "    JOIN enrollments ON instructors.instructor_ID = enrollments.instructor_ID \n",
            "    WHERE enrollments.enrollment_date >= (CURRENT_DATE - interval '6 months') \n",
            "    GROUP BY instructors.name, instructors.email \n",
            "    ORDER BY instructors.name NULLS LAST;\n",
            "\n",
            "    Return The name of the best paid employee:\n",
            "    I cannot find the salaries in the schema but I can find the best funded employee\n",
            "    SELECT departments.name, MAX(research_projects.funding_amount) AS max_funding \n",
            "    FROM research_projects \n",
            "    JOIN lead_instructors ON research_projects.lead_instructor_id = lead_instructors.instructor_id \n",
            "    JOIN instructors ON lead_instructors.instructor_id = instructors.instructor_id \n",
            "    JOIN departments ON instructors.department = departments.department_id \n",
            "    GROUP BY departments.name \n",
            "    ORDER BY max_funding DESC NULLS LAST LIMIT 1;\n",
            "\n",
            "    ### Response\n",
            "    Based on your instructions, here is the SQL query I have generated to answer the question\n",
            "    `Encuentre el número de veces que cada estudiante faltó a una clase`:\n",
            "    ```sql3\n",
            "    \n"
          ]
        }
      ],
      "source": [
        "sp_nl2sql3 = sp_nl2sql3b.format(question=\"Encuentre el número de veces que cada estudiante faltó a una clase\")\n",
        "print (sp_nl2sql3)"
      ]
    },
    {
      "cell_type": "code",
      "execution_count": 51,
      "metadata": {
        "id": "rBGokR4RFfrK"
      },
      "outputs": [],
      "source": [
        "input_sentences = tokenizer(sp_nl2sql3, return_tensors=\"pt\").to('cuda')\n",
        "response = get_outputs(foundation_model, input_sentences, max_new_tokens=400)\n",
        "SQL = tokenizer.batch_decode(response, skip_special_tokens=True)\n",
        "torch.cuda.empty_cache()"
      ]
    },
    {
      "cell_type": "code",
      "execution_count": 52,
      "metadata": {
        "colab": {
          "base_uri": "https://localhost:8080/"
        },
        "id": "OEoQgcoUHXXJ",
        "outputId": "fca8d4d8-fc19-4a45-8554-ff774115a542"
      },
      "outputs": [
        {
          "output_type": "stream",
          "name": "stdout",
          "text": [
            "SELECT students.student_id, COUNT(enrollments.enrollment_id) AS num_enrollments \n",
            "     FROM students \n",
            "     LEFT JOIN enrollments ON students.student_id = enrollments.student_id \n",
            "     WHERE enrollments.enrollment_id IS NULL \n",
            "     GROUP BY students.student_id \n",
            "     ORDER BY num_enrollments DESC NULLS LAST;\n"
          ]
        }
      ],
      "source": [
        "print(SQL[0].split(\"```sql3\")[-1].split(\"```\")[0].split(\";\")[0].strip() + \";\")"
      ]
    },
    {
      "cell_type": "markdown",
      "metadata": {
        "id": "pHZn6nGCH2RS"
      },
      "source": [
        "The generated SQL command is the same regardless of where we have placed the examples."
      ]
    },
    {
      "cell_type": "markdown",
      "metadata": {
        "id": "yrHGZjraCYSR"
      },
      "source": [
        "#Conclusions.\n",
        "\n",
        "Let's see the three SQL's together.\n",
        "\n",
        "* SELECT employees.name, MAX(salary.salary) AS max_salary FROM employees JOIN salary ON employees.ID_Usr = salary.ID_Usr GROUP BY employees.name ORDER BY max_salary DESC NULLS LAST LIMIT 1;\n",
        "\n",
        "* SELECT e.name\n",
        "    FROM employees e\n",
        "    JOIN salary s ON e.ID_Usr = s.ID_usr\n",
        "    WHERE s.salary = (SELECT MAX(salary) FROM salary);\n",
        "\n",
        "* SELECT e.name\n",
        "    FROM employees e\n",
        "    JOIN salary s ON e.ID_Usr = s.ID_usr\n",
        "    WHERE s.salary = (SELECT MAX(salary) FROM salary);\n",
        "\n",
        "* Spanish Question: SELECT e.name\n",
        "     FROM employees e\n",
        "     JOIN salary s ON e.ID_Usr = s.ID_Usr\n",
        "     WHERE s.salary = (SELECT MAX(salary) FROM salary)\n",
        "     GROUP BY e.name\n",
        "     ORDER BY COUNT(studies.ID_study) DESC\n",
        "     LIMIT 1;\n",
        "\n",
        "\n",
        "**The model has demonstrated that it is highly efficient in crafting SQL.** Additionally, it pays a lot of attention, perhaps too much, to the examples we provide. Clearly, these examples should be crafted by one of the best SQL programmers we have access to, though their use may not be essential.\n",
        "\n",
        "On the other hand, although the model is clearly very proficient in SQL generation, during the creation of the notebook, I have encountered several issues because the commands need to be extremely clear. It doesn't handle typos well (which should not exist).\n",
        "\n",
        "It appears to have some issues when it receives commands in Spanish. I assume this problem would be present in any language other than English. Therefore, since it's a tool that could be used by non-technical personnel, this should be considered in environments where English is not the primary language."
      ]
    },
    {
      "cell_type": "markdown",
      "metadata": {
        "id": "P45ukTZyHdFE"
      },
      "source": [
        "# Exercise\n",
        " - Complete the prompts similar to what we did in class.\n",
        "     - Try at least 3 versions\n",
        "     - Be creative\n",
        " - Write a one page report summarizing your findings.\n",
        "     - Were there variations that didn't work well? i.e., where GPT either hallucinated or wrong\n",
        " - What did you learn?"
      ]
    },
    {
      "cell_type": "code",
      "execution_count": 53,
      "metadata": {
        "id": "sRGGbaUsANew"
      },
      "outputs": [],
      "source": [
        "# There were some hallucinations when it came to asking questions requesting tasks that are not possible.\n",
        "# I tried training the model to also explain if it's not possible to do a task and give a possible solution but that didn't work"
      ]
    },
    {
      "cell_type": "code",
      "source": [],
      "metadata": {
        "id": "3B_VylD3WtY2"
      },
      "execution_count": 53,
      "outputs": []
    }
  ],
  "metadata": {
    "accelerator": "GPU",
    "colab": {
      "gpuType": "T4",
      "provenance": []
    },
    "kernelspec": {
      "display_name": "Python 3 (ipykernel)",
      "language": "python",
      "name": "python3"
    },
    "language_info": {
      "codemirror_mode": {
        "name": "ipython",
        "version": 3
      },
      "file_extension": ".py",
      "mimetype": "text/x-python",
      "name": "python",
      "nbconvert_exporter": "python",
      "pygments_lexer": "ipython3",
      "version": "3.7.16"
    },
    "toc": {
      "base_numbering": 1,
      "nav_menu": {},
      "number_sections": true,
      "sideBar": true,
      "skip_h1_title": false,
      "title_cell": "Table of Contents",
      "title_sidebar": "Contents",
      "toc_cell": true,
      "toc_position": {},
      "toc_section_display": true,
      "toc_window_display": false
    },
    "varInspector": {
      "cols": {
        "lenName": 16,
        "lenType": 16,
        "lenVar": 40
      },
      "kernels_config": {
        "python": {
          "delete_cmd_postfix": "",
          "delete_cmd_prefix": "del ",
          "library": "var_list.py",
          "varRefreshCmd": "print(var_dic_list())"
        },
        "r": {
          "delete_cmd_postfix": ") ",
          "delete_cmd_prefix": "rm(",
          "library": "var_list.r",
          "varRefreshCmd": "cat(var_dic_list()) "
        }
      },
      "types_to_exclude": [
        "module",
        "function",
        "builtin_function_or_method",
        "instance",
        "_Feature"
      ],
      "window_display": false
    },
    "widgets": {
      "application/vnd.jupyter.widget-state+json": {
        "10858fb8ab8a4a1fa9dd92f9af918f57": {
          "model_module": "@jupyter-widgets/controls",
          "model_name": "HBoxModel",
          "model_module_version": "1.5.0",
          "state": {
            "_dom_classes": [],
            "_model_module": "@jupyter-widgets/controls",
            "_model_module_version": "1.5.0",
            "_model_name": "HBoxModel",
            "_view_count": null,
            "_view_module": "@jupyter-widgets/controls",
            "_view_module_version": "1.5.0",
            "_view_name": "HBoxView",
            "box_style": "",
            "children": [
              "IPY_MODEL_7efbfe99422f48e3a3fb52b5a17c1b32",
              "IPY_MODEL_6037db045bd5478aa0281c130d910af2",
              "IPY_MODEL_a4f8a6eda3564f1581f02d1f3e92044b"
            ],
            "layout": "IPY_MODEL_613aa121dbb04595906a734f849a8cf0"
          }
        },
        "7efbfe99422f48e3a3fb52b5a17c1b32": {
          "model_module": "@jupyter-widgets/controls",
          "model_name": "HTMLModel",
          "model_module_version": "1.5.0",
          "state": {
            "_dom_classes": [],
            "_model_module": "@jupyter-widgets/controls",
            "_model_module_version": "1.5.0",
            "_model_name": "HTMLModel",
            "_view_count": null,
            "_view_module": "@jupyter-widgets/controls",
            "_view_module_version": "1.5.0",
            "_view_name": "HTMLView",
            "description": "",
            "description_tooltip": null,
            "layout": "IPY_MODEL_1cd87a8fa9c84902a037e90b944c7197",
            "placeholder": "​",
            "style": "IPY_MODEL_0453ef74f94044f0ad379753345d9465",
            "value": "Loading checkpoint shards: 100%"
          }
        },
        "6037db045bd5478aa0281c130d910af2": {
          "model_module": "@jupyter-widgets/controls",
          "model_name": "FloatProgressModel",
          "model_module_version": "1.5.0",
          "state": {
            "_dom_classes": [],
            "_model_module": "@jupyter-widgets/controls",
            "_model_module_version": "1.5.0",
            "_model_name": "FloatProgressModel",
            "_view_count": null,
            "_view_module": "@jupyter-widgets/controls",
            "_view_module_version": "1.5.0",
            "_view_name": "ProgressView",
            "bar_style": "success",
            "description": "",
            "description_tooltip": null,
            "layout": "IPY_MODEL_494977d46bfb4428a7c3e72284e0af23",
            "max": 2,
            "min": 0,
            "orientation": "horizontal",
            "style": "IPY_MODEL_d39375e8d5064e16ba163c6b7bbc7ae0",
            "value": 2
          }
        },
        "a4f8a6eda3564f1581f02d1f3e92044b": {
          "model_module": "@jupyter-widgets/controls",
          "model_name": "HTMLModel",
          "model_module_version": "1.5.0",
          "state": {
            "_dom_classes": [],
            "_model_module": "@jupyter-widgets/controls",
            "_model_module_version": "1.5.0",
            "_model_name": "HTMLModel",
            "_view_count": null,
            "_view_module": "@jupyter-widgets/controls",
            "_view_module_version": "1.5.0",
            "_view_name": "HTMLView",
            "description": "",
            "description_tooltip": null,
            "layout": "IPY_MODEL_e104263e2f414e7689f9348951dc90a0",
            "placeholder": "​",
            "style": "IPY_MODEL_22074b05e44e4e6b9453072ad668232b",
            "value": " 2/2 [01:01&lt;00:00, 29.99s/it]"
          }
        },
        "613aa121dbb04595906a734f849a8cf0": {
          "model_module": "@jupyter-widgets/base",
          "model_name": "LayoutModel",
          "model_module_version": "1.2.0",
          "state": {
            "_model_module": "@jupyter-widgets/base",
            "_model_module_version": "1.2.0",
            "_model_name": "LayoutModel",
            "_view_count": null,
            "_view_module": "@jupyter-widgets/base",
            "_view_module_version": "1.2.0",
            "_view_name": "LayoutView",
            "align_content": null,
            "align_items": null,
            "align_self": null,
            "border": null,
            "bottom": null,
            "display": null,
            "flex": null,
            "flex_flow": null,
            "grid_area": null,
            "grid_auto_columns": null,
            "grid_auto_flow": null,
            "grid_auto_rows": null,
            "grid_column": null,
            "grid_gap": null,
            "grid_row": null,
            "grid_template_areas": null,
            "grid_template_columns": null,
            "grid_template_rows": null,
            "height": null,
            "justify_content": null,
            "justify_items": null,
            "left": null,
            "margin": null,
            "max_height": null,
            "max_width": null,
            "min_height": null,
            "min_width": null,
            "object_fit": null,
            "object_position": null,
            "order": null,
            "overflow": null,
            "overflow_x": null,
            "overflow_y": null,
            "padding": null,
            "right": null,
            "top": null,
            "visibility": null,
            "width": null
          }
        },
        "1cd87a8fa9c84902a037e90b944c7197": {
          "model_module": "@jupyter-widgets/base",
          "model_name": "LayoutModel",
          "model_module_version": "1.2.0",
          "state": {
            "_model_module": "@jupyter-widgets/base",
            "_model_module_version": "1.2.0",
            "_model_name": "LayoutModel",
            "_view_count": null,
            "_view_module": "@jupyter-widgets/base",
            "_view_module_version": "1.2.0",
            "_view_name": "LayoutView",
            "align_content": null,
            "align_items": null,
            "align_self": null,
            "border": null,
            "bottom": null,
            "display": null,
            "flex": null,
            "flex_flow": null,
            "grid_area": null,
            "grid_auto_columns": null,
            "grid_auto_flow": null,
            "grid_auto_rows": null,
            "grid_column": null,
            "grid_gap": null,
            "grid_row": null,
            "grid_template_areas": null,
            "grid_template_columns": null,
            "grid_template_rows": null,
            "height": null,
            "justify_content": null,
            "justify_items": null,
            "left": null,
            "margin": null,
            "max_height": null,
            "max_width": null,
            "min_height": null,
            "min_width": null,
            "object_fit": null,
            "object_position": null,
            "order": null,
            "overflow": null,
            "overflow_x": null,
            "overflow_y": null,
            "padding": null,
            "right": null,
            "top": null,
            "visibility": null,
            "width": null
          }
        },
        "0453ef74f94044f0ad379753345d9465": {
          "model_module": "@jupyter-widgets/controls",
          "model_name": "DescriptionStyleModel",
          "model_module_version": "1.5.0",
          "state": {
            "_model_module": "@jupyter-widgets/controls",
            "_model_module_version": "1.5.0",
            "_model_name": "DescriptionStyleModel",
            "_view_count": null,
            "_view_module": "@jupyter-widgets/base",
            "_view_module_version": "1.2.0",
            "_view_name": "StyleView",
            "description_width": ""
          }
        },
        "494977d46bfb4428a7c3e72284e0af23": {
          "model_module": "@jupyter-widgets/base",
          "model_name": "LayoutModel",
          "model_module_version": "1.2.0",
          "state": {
            "_model_module": "@jupyter-widgets/base",
            "_model_module_version": "1.2.0",
            "_model_name": "LayoutModel",
            "_view_count": null,
            "_view_module": "@jupyter-widgets/base",
            "_view_module_version": "1.2.0",
            "_view_name": "LayoutView",
            "align_content": null,
            "align_items": null,
            "align_self": null,
            "border": null,
            "bottom": null,
            "display": null,
            "flex": null,
            "flex_flow": null,
            "grid_area": null,
            "grid_auto_columns": null,
            "grid_auto_flow": null,
            "grid_auto_rows": null,
            "grid_column": null,
            "grid_gap": null,
            "grid_row": null,
            "grid_template_areas": null,
            "grid_template_columns": null,
            "grid_template_rows": null,
            "height": null,
            "justify_content": null,
            "justify_items": null,
            "left": null,
            "margin": null,
            "max_height": null,
            "max_width": null,
            "min_height": null,
            "min_width": null,
            "object_fit": null,
            "object_position": null,
            "order": null,
            "overflow": null,
            "overflow_x": null,
            "overflow_y": null,
            "padding": null,
            "right": null,
            "top": null,
            "visibility": null,
            "width": null
          }
        },
        "d39375e8d5064e16ba163c6b7bbc7ae0": {
          "model_module": "@jupyter-widgets/controls",
          "model_name": "ProgressStyleModel",
          "model_module_version": "1.5.0",
          "state": {
            "_model_module": "@jupyter-widgets/controls",
            "_model_module_version": "1.5.0",
            "_model_name": "ProgressStyleModel",
            "_view_count": null,
            "_view_module": "@jupyter-widgets/base",
            "_view_module_version": "1.2.0",
            "_view_name": "StyleView",
            "bar_color": null,
            "description_width": ""
          }
        },
        "e104263e2f414e7689f9348951dc90a0": {
          "model_module": "@jupyter-widgets/base",
          "model_name": "LayoutModel",
          "model_module_version": "1.2.0",
          "state": {
            "_model_module": "@jupyter-widgets/base",
            "_model_module_version": "1.2.0",
            "_model_name": "LayoutModel",
            "_view_count": null,
            "_view_module": "@jupyter-widgets/base",
            "_view_module_version": "1.2.0",
            "_view_name": "LayoutView",
            "align_content": null,
            "align_items": null,
            "align_self": null,
            "border": null,
            "bottom": null,
            "display": null,
            "flex": null,
            "flex_flow": null,
            "grid_area": null,
            "grid_auto_columns": null,
            "grid_auto_flow": null,
            "grid_auto_rows": null,
            "grid_column": null,
            "grid_gap": null,
            "grid_row": null,
            "grid_template_areas": null,
            "grid_template_columns": null,
            "grid_template_rows": null,
            "height": null,
            "justify_content": null,
            "justify_items": null,
            "left": null,
            "margin": null,
            "max_height": null,
            "max_width": null,
            "min_height": null,
            "min_width": null,
            "object_fit": null,
            "object_position": null,
            "order": null,
            "overflow": null,
            "overflow_x": null,
            "overflow_y": null,
            "padding": null,
            "right": null,
            "top": null,
            "visibility": null,
            "width": null
          }
        },
        "22074b05e44e4e6b9453072ad668232b": {
          "model_module": "@jupyter-widgets/controls",
          "model_name": "DescriptionStyleModel",
          "model_module_version": "1.5.0",
          "state": {
            "_model_module": "@jupyter-widgets/controls",
            "_model_module_version": "1.5.0",
            "_model_name": "DescriptionStyleModel",
            "_view_count": null,
            "_view_module": "@jupyter-widgets/base",
            "_view_module_version": "1.2.0",
            "_view_name": "StyleView",
            "description_width": ""
          }
        }
      }
    }
  },
  "nbformat": 4,
  "nbformat_minor": 0
}